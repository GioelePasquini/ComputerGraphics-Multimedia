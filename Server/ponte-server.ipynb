{
 "metadata": {
  "kernelspec": {
   "language": "python",
   "display_name": "Python 3",
   "name": "python3"
  },
  "language_info": {
   "name": "python",
   "version": "3.10.13",
   "mimetype": "text/x-python",
   "codemirror_mode": {
    "name": "ipython",
    "version": 3
   },
   "pygments_lexer": "ipython3",
   "nbconvert_exporter": "python",
   "file_extension": ".py"
  },
  "kaggle": {
   "accelerator": "none",
   "dataSources": [
    {
     "sourceId": 8614878,
     "sourceType": "datasetVersion",
     "datasetId": 5156093
    },
    {
     "sourceId": 8614882,
     "sourceType": "datasetVersion",
     "datasetId": 5156096
    },
    {
     "sourceId": 8614884,
     "sourceType": "datasetVersion",
     "datasetId": 5156098
    }
   ],
   "dockerImageVersionId": 30716,
   "isInternetEnabled": true,
   "language": "python",
   "sourceType": "notebook",
   "isGpuEnabled": false
  }
 },
 "nbformat_minor": 4,
 "nbformat": 4,
 "cells": [
  {
   "cell_type": "code",
   "source": "! rm -rf /opt/conda/lib/python3.10/site-packages/aiohttp-3.9.1.dist-info",
   "metadata": {
    "execution": {
     "iopub.status.busy": "2024-06-05T15:34:01.504846Z",
     "iopub.execute_input": "2024-06-05T15:34:01.505513Z",
     "iopub.status.idle": "2024-06-05T15:34:02.452878Z",
     "shell.execute_reply.started": "2024-06-05T15:34:01.505479Z",
     "shell.execute_reply": "2024-06-05T15:34:02.451662Z"
    },
    "trusted": true
   },
   "execution_count": null,
   "outputs": []
  },
  {
   "cell_type": "code",
   "source": "# Repository InstantMesh\n%cd /kaggle/working/\n!GIT_LFS_SKIP_SMUDGE=1 git clone -b dev https://github.com/camenduru/InstantMesh\n%cd /kaggle/working/InstantMesh",
   "metadata": {
    "execution": {
     "iopub.status.busy": "2024-06-05T15:34:02.455199Z",
     "iopub.execute_input": "2024-06-05T15:34:02.455584Z",
     "iopub.status.idle": "2024-06-05T15:34:06.928423Z",
     "shell.execute_reply.started": "2024-06-05T15:34:02.455549Z",
     "shell.execute_reply": "2024-06-05T15:34:06.927247Z"
    },
    "collapsed": true,
    "jupyter": {
     "outputs_hidden": true
    },
    "trusted": true
   },
   "execution_count": null,
   "outputs": []
  },
  {
   "cell_type": "code",
   "source": "# Installazione pacchetti\n!pip install tensorflow[and-cuda]\n!pip install pytorch-lightning==2.1.2 gradio==3.50.2 einops omegaconf torchmetrics webdataset accelerate tensorboard\n!pip install PyMCubes trimesh rembg transformers diffusers==0.20.2 bitsandbytes imageio[ffmpeg] xatlas plyfile\n!pip install git+https://github.com/NVlabs/nvdiffrast jax==0.4.19 jaxlib==0.4.19 ninja\n!pip install flask pyngrok ngrok    ",
   "metadata": {
    "execution": {
     "iopub.status.busy": "2024-06-05T15:34:06.930300Z",
     "iopub.execute_input": "2024-06-05T15:34:06.930603Z",
     "iopub.status.idle": "2024-06-05T15:38:09.444222Z",
     "shell.execute_reply.started": "2024-06-05T15:34:06.930574Z",
     "shell.execute_reply": "2024-06-05T15:38:09.443022Z"
    },
    "collapsed": true,
    "jupyter": {
     "outputs_hidden": true
    },
    "trusted": true
   },
   "execution_count": null,
   "outputs": []
  },
  {
   "cell_type": "code",
   "source": "!python /kaggle/input/server/server.py",
   "metadata": {
    "execution": {
     "iopub.status.busy": "2024-06-05T15:38:09.446861Z",
     "iopub.execute_input": "2024-06-05T15:38:09.447713Z",
     "iopub.status.idle": "2024-06-05T16:02:39.836853Z",
     "shell.execute_reply.started": "2024-06-05T15:38:09.447670Z",
     "shell.execute_reply": "2024-06-05T16:02:39.835795Z"
    },
    "trusted": true
   },
   "execution_count": null,
   "outputs": []
  }
 ]
}
